{
 "cells": [
  {
   "cell_type": "markdown",
   "metadata": {},
   "source": [
    "# Community detection"
   ]
  },
  {
   "cell_type": "code",
   "execution_count": 1,
   "metadata": {},
   "outputs": [],
   "source": [
    "import json, time, sys, os\n",
    "# метод urlopen лежит в разных пакетах в зависимости от версии питона\n",
    "if sys.version_info.major == 2:\n",
    "    import urllib as url_lib\n",
    "else:\n",
    "    import urllib.request as url_lib\n",
    "import igraph as igr\n",
    "import graph_tool.all as grt\n",
    "from graph_tool import inference\n",
    "import cairocffi\n",
    "import matplotlib\n",
    "from matplotlib import pyplot as plt\n",
    "import random as rnd\n",
    "import gc\n",
    "import time\n",
    "import inspect\n",
    "import psutil\n",
    "import re\n",
    "import itertools\n",
    "import numpy as np"
   ]
  },
  {
   "cell_type": "markdown",
   "metadata": {},
   "source": [
    "# Data prepare"
   ]
  },
  {
   "cell_type": "code",
   "execution_count": 2,
   "metadata": {},
   "outputs": [],
   "source": [
    "def get_couples_by_group_ids(access_token, group_ids):\n",
    "    members = {\"response\": {\"count\":0, \"items\":[]}}\n",
    "    for group_id in group_ids:  \n",
    "        # получаем json файл с первой тысячей участников сообщества:\n",
    "        print(str(group_id))\n",
    "        print(\"Getting data from https://api.vk.com/method/groups.getMembers?v=5.92&group_id=%s&access_token=%s\" % \n",
    "              (str(group_id), access_token))\n",
    "        members_json = url_lib.urlopen(\n",
    "            \"https://api.vk.com/method/groups.getMembers?v=5.92&group_id=%s&access_token=%s\" % \n",
    "            (str(group_id), access_token)\n",
    "        )\n",
    "        # декодируем в питоновский формат\n",
    "        group_members = json.loads(members_json.read().decode('utf-8')) \n",
    "        time.sleep(0.334)\n",
    "\n",
    "        # повторяем для оставшихся участников сообщества\n",
    "        members_left = group_members['response']['count'] - 1000\n",
    "        offset = 0\n",
    "        while members_left > 0:\n",
    "            offset += 1000\n",
    "            members_json = url_lib.urlopen(\n",
    "                \"https://api.vk.com/method/groups.getMembers?v=5.92&group_id=%s&access_token=%s&offset=%s\" % \n",
    "                (str(group_id), access_token, offset)\n",
    "            )\n",
    "            time.sleep(0.334)\n",
    "            group_members['response']['items'] += (json.loads(members_json.read().decode('utf-8')))['response']['items']\n",
    "            members_left -= 1000\n",
    "            \n",
    "        print(\"Data collected\")\n",
    "            \n",
    "        members['response']['items'] += group_members['response']['items']\n",
    "        members['response']['count'] += group_members['response']['count']\n",
    "        \n",
    "    # собираем множество пар для группы\n",
    "    couples = set() \n",
    "    unique_ids = set()\n",
    "    start_time = time.time()\n",
    "    for user_id in members['response']['items']:\n",
    "        time.sleep(0.334)\n",
    "        # собираем список друзей конкретного пользователя\n",
    "        friends_json = url_lib.urlopen(\n",
    "            \"https://api.vk.com/method/friends.get?v=5.92&user_id=%s&access_token=%s\" % \n",
    "            (str(user_id), access_token)\n",
    "        )\n",
    "        friends = json.loads(friends_json.read().decode('utf-8'))\n",
    "        time.sleep(0.334)\n",
    "        if 'response' in friends.keys():\n",
    "            for user_friend in friends['response']['items']:\n",
    "                # добавляем в множество пар couples множество (user_id, user_friend). \n",
    "                # Опять же используем не лист, а множество, чтобы не проверять на перестановки.\n",
    "                # Используется frozenset, тк в множестве не могут быть изменяемые значения\n",
    "                couples.add(frozenset({str(user_id), str(user_friend)}))\n",
    "                unique_ids.update({str(user_id), str(user_friend)})\n",
    "            if friends['response']['count'] > 5000:\n",
    "                friends_json = url_lib.urlopen(\n",
    "                    \"https://api.vk.com/method/friends.get?v=5.92&user_id=%s&access_token=%s&offset=5000\" % \n",
    "                    (str(user_id), access_token)\n",
    "                )\n",
    "                friends = json.loads(friends_json.read().decode('utf-8'))\n",
    "                for user_friend in friends['response']['items']:\n",
    "                    couples.add(frozenset({str(user_id), str(user_friend)}))\n",
    "                    unique_ids.update({str(user_id), str(user_friend)})\n",
    "    print(\"Couples collected for %f seconds\" % (time.time() - start_time))\n",
    "    \n",
    "    ids = list(unique_ids)\n",
    "    ids_dict = {}\n",
    "    for i, cur_id in enumerate(ids):\n",
    "        ids_dict[cur_id] = i\n",
    "    print(\"Total couples: %i\" % len(couples))\n",
    "    print(\"Total users: %i\" % len(ids))\n",
    "    return (ids, ids_dict, couples)"
   ]
  },
  {
   "cell_type": "code",
   "execution_count": 3,
   "metadata": {},
   "outputs": [
    {
     "name": "stdout",
     "output_type": "stream",
     "text": [
      "14\n"
     ]
    },
    {
     "data": {
      "text/plain": [
       "pfullmem(rss=171470848, vms=1344872448, shared=86638592, text=4096, lib=0, data=152186880, dirty=0, uss=155803648, pss=163404800, swap=0)"
      ]
     },
     "execution_count": 3,
     "metadata": {},
     "output_type": "execute_result"
    }
   ],
   "source": [
    "def memory_usage_psutil(pid=None):\n",
    "    if pid is None:\n",
    "        pid = os.getpid()\n",
    "    print(pid)\n",
    "    process = psutil.Process(pid)\n",
    "    return process.memory_full_info()"
   ]
  },
  {
   "cell_type": "code",
   "execution_count": 5,
   "metadata": {},
   "outputs": [],
   "source": [
    "def create_grt_graph(access_token, *group_ids):\n",
    "    \"\"\"\n",
    "    Graph-tool social graph creation from VK groups data.\n",
    "    \n",
    "    access_token - token\n",
    "    *group_ids - group ids\n",
    "    \"\"\"\n",
    "    \n",
    "    #получение списка дружеских пар из vk по id групп \n",
    "    \n",
    "    ids, ids_dict, edges = get_couples_by_group_ids(access_token, group_ids)\n",
    "    with open('last_graph.txt', 'w') as f:\n",
    "        f.write('[%s ' % ids[0])\n",
    "        for i in range(1, len(ids)):\n",
    "            f.write(', %s' % ids[i])\n",
    "        f.write(']\\n')\n",
    "        \n",
    "        f.write('{')\n",
    "        i = 0\n",
    "        for key, value in ids_dict.items():\n",
    "            if i < len(ids) - 1:\n",
    "                f.write('%s : %i, ' % (key, value))\n",
    "            else:\n",
    "                f.write('%s : %i}\\n' % (key, value))\n",
    "            i += 1\n",
    "        \n",
    "        f.write('{')\n",
    "        i = 0\n",
    "        for v1, v2 in edges:\n",
    "            if i < len(edges) - 1:\n",
    "                f.write('{%s, %s}, ' % (v1, v2))\n",
    "            else:\n",
    "                f.write('{%s, %s}}\\n' % (v1, v2))\n",
    "                    \n",
    "    print(\"Graph params saved to file\")\n",
    "    \n",
    "    edges_list = list()\n",
    "    for edge in edges:\n",
    "        edges_list.append(tuple(edge))\n",
    "    \n",
    "    #создание и заполнение grt графа\n",
    "    start_time = time.time()\n",
    "    g = grt.Graph(directed=False)\n",
    "    g.add_vertex(len(ids))\n",
    "    vprop = g.new_vertex_property(\"string\", vals=ids)\n",
    "    g.vp.user_id = vprop       \n",
    "    print(\"Vertices added for %f seconds\" % (time.time() - start_time))\n",
    "    \n",
    "    start_time = time.time()\n",
    "    for vert1, vert2 in edges_list:\n",
    "        g.add_edge(g.vertex(ids_dict[vert1]), g.vertex(ids_dict[vert2]))\n",
    "    print(\"Edges added for %f seconds\" % (time.time() - start_time))\n",
    "    print(\"INITIAL GRAPH CREATED\")\n",
    "    print(g)\n",
    "    \n",
    "    #удаление вершин c одной связью, как не несущие смысловой нагрузки\n",
    "    start_time = time.time()\n",
    "    out_degrees = g.get_out_degrees(list(range(len(g.get_vertices())))) \n",
    "    v_index = 0\n",
    "    while v_index < len(out_degrees):\n",
    "        if out_degrees[v_index] == 1:\n",
    "            g.remove_vertex(v_index, fast=True)\n",
    "            out_degrees[v_index] = out_degrees[-1]\n",
    "            out_degrees = out_degrees[:-1]\n",
    "        else:\n",
    "            v_index += 1  \n",
    "    print(\"Deleting vertices with degree equaled to 1 succeed for %f seconds\" % (time.time() - start_time))\n",
    "    print(g)\n",
    "            \n",
    "    #удаление вершин c нулём связей, как не несущие смысловой нагрузки\n",
    "    start_time = time.time()\n",
    "    v_index = 0\n",
    "    while v_index < len(g.get_vertices()):\n",
    "        if g.vertex(v_index).out_degree() == 0:\n",
    "            g.remove_vertex(v_index, fast=True)\n",
    "        else:\n",
    "            v_index += 1\n",
    "            \n",
    "    print(\"Deleting vertices with degree equaled to 0 succeed for %f seconds\" % (time.time() - start_time))\n",
    "    print(g)\n",
    "    \n",
    "    del ids, ids_dict, edges\n",
    "    gc.collect()\n",
    "    \n",
    "    return g"
   ]
  },
  {
   "cell_type": "code",
   "execution_count": 7,
   "metadata": {},
   "outputs": [],
   "source": [
    "def create_color_map(g, cl_props):\n",
    "    for prop in cl_props:\n",
    "        print(prop)\n",
    "        cluster_count = max(g.vp[prop].a) + 1\n",
    "        #создание расцветки для каждого кластера\n",
    "        cluster_color_map = {}\n",
    "        for i in range(cluster_count):\n",
    "            cluster_color_map[i]=(rnd.random(),rnd.random(),rnd.random(), 1)\n",
    "\n",
    "        #передача значений цвета как property вершин grt графа\n",
    "        vprop = g.new_vertex_property('vector<double>')\n",
    "        g.vp[prop + \"_color\"] = vprop\n",
    "\n",
    "        for v in g.vertices():\n",
    "            g.vp[prop + \"_color\"][v] = cluster_color_map[g.vp[prop][v]]\n",
    "    print(g.vp.keys())\n",
    "    return g"
   ]
  },
  {
   "cell_type": "code",
   "execution_count": 8,
   "metadata": {},
   "outputs": [],
   "source": [
    "def ig_clustering(g, method, method_name):\n",
    "    \"\"\"\n",
    "    Get graph-tool clustering result via igraph methods.\n",
    "    \n",
    "    g - граф graph-tool\n",
    "    method - метод кластеризации igraph\n",
    "    \"\"\"\n",
    "    #инициализация списка vk id и списка связей vk id\n",
    "    grt_ids = []\n",
    "    grt_edges_list = []\n",
    "    \n",
    "    #заполнение этих списков\n",
    "    for v in g.vertices():\n",
    "        grt_ids.append(g.vp.user_id[v])\n",
    "        \n",
    "    print(\"List of vertices filling succeed\")\n",
    "\n",
    "    for v1, v2 in g.edges():\n",
    "        grt_edges_list.append((g.vp.user_id[v1],\n",
    "                               g.vp.user_id[v2]))\n",
    "        \n",
    "    print(\"List of edges filling succeed\")\n",
    "    \n",
    "    #создание и заполнение igraph объекта \n",
    "    ig = igr.Graph(len(grt_ids)) \n",
    "    ig.vs['name'] = grt_ids\n",
    "    ig.add_edges(grt_edges_list)\n",
    "    \n",
    "    print(\"Graph in igraph notation created\")\n",
    "    \n",
    "    #создание объекта кластеризации\n",
    "    start_time = time.time()\n",
    "    ig_cl = method(ig)\n",
    "    \n",
    "    if type(ig_cl) == igr.clustering.VertexDendrogram:\n",
    "        ig_cl = ig_cl.as_clustering()\n",
    "        print(\"VD -> VC completed\")\n",
    "    \n",
    "    print(\"Clustering succeed in %f seconds\" % (time.time() - start_time))\n",
    "    print(\"Number of clusters = %i\" % len(ig_cl))\n",
    "\n",
    "    #передача значений кластера как property вершин grt графа\n",
    "    vprop = g.new_vertex_property(\"int16_t\", vals=ig_cl.membership)\n",
    "       \n",
    "    g.vp[method_name + \"_cluster\"] = vprop\n",
    "    \n",
    "     #создание расцветки для каждого кластера\n",
    "    cluster_color_map = {}\n",
    "    for i in range(len(ig_cl)):\n",
    "        cluster_color_map[i]=(rnd.random(),rnd.random(),rnd.random(), 1)\n",
    "\n",
    "    #передача значений цвета как property вершин grt графа\n",
    "    vprop = g.new_vertex_property('vector<double>')\n",
    "    g.vp[method_name + \"_cluster_color\"] = vprop\n",
    "\n",
    "    for v in g.vertices():\n",
    "        g.vp[method_name + \"_cluster_color\"][v] = cluster_color_map[g.vp[method_name + \"_cluster\"][v]]\n",
    "    \n",
    "    #сохранение результата кластеризации\n",
    "    #g.save(res_name + \".gt\")\n",
    "        \n",
    "    del ig_cl, ig\n",
    "        \n",
    "    print(\"Igraph clustering result saved in graph-tool graph\")\n",
    "    \n",
    "    gc.collect()\n",
    "    \n",
    "    return g\n",
    "\n",
    "def clusters_to_graph(g, cluster_prop_name):    \n",
    "    g_cluster_summary = grt.Graph(directed=False)\n",
    "    #Получение количества вершин нового графа, равное количеству кластеров первоначального графа\n",
    "    size = max(g.vp[cluster_prop_name]) + 1\n",
    "    g_cluster_summary.add_vertex(size)\n",
    "\n",
    "    #добавление и заполнение цвета верршин нового графа из цвета кластеров старого графа и\n",
    "    #добавление и заполнение размера верршин нового графа в соответствии с количеством вершин в кластерах старого графа\n",
    "    cl_color_prop_name = cluster_prop_name + \"_color\"\n",
    "    g_cluster_summary.vp.vertex_size = g_cluster_summary.new_vp('int32_t')\n",
    "    g_cluster_summary.vp[cl_color_prop_name] = g_cluster_summary.new_vp('vector<double>')\n",
    "    clusters = g.vp[cluster_prop_name].a.tolist()\n",
    "    for i in range(size):\n",
    "        g_cluster_summary.vp.vertex_size[i] = clusters.count(i)\n",
    "        g_cluster_summary.vp[cl_color_prop_name][i] = g.vp[cl_color_prop_name][clusters.index(i)]\n",
    "\n",
    "    #добавление и заполнение размера связей нового графа в соответствии с количеством связей между кластерами старого графа\n",
    "    cl_edges = {}\n",
    "    for e in g.edges():\n",
    "        s_cluter = g.vp[cluster_prop_name][e.source()]\n",
    "        t_cluter = g.vp[cluster_prop_name][e.target()]\n",
    "        if s_cluter != t_cluter: \n",
    "            if frozenset({s_cluter,t_cluter}) not in cl_edges.keys():\n",
    "                cl_edges[frozenset({s_cluter,t_cluter})] = 1\n",
    "            else:\n",
    "                cl_edges[frozenset({s_cluter,t_cluter})] += 1\n",
    "                g_cluster_summary.ep.edge_size = g_cluster_summary.new_ep('int32_t')\n",
    "    for e, e_size in cl_edges.items():\n",
    "        e_list = list(e)\n",
    "        g_cluster_summary.add_edge(e_list[0],e_list[1])\n",
    "        g_cluster_summary.ep.edge_size[g_cluster_summary.edge(e_list[0],e_list[1])] = e_size\n",
    "    \n",
    "    return g_cluster_summary\n",
    "\n",
    "def cluster_separation(g, cluster_prop_name):\n",
    "    g_separated = g.copy()\n",
    "    reverse_iter = []\n",
    "    for i in g_separated.edges():\n",
    "        reverse_iter.insert(0, i)   \n",
    "    for i in reverse_iter:\n",
    "        if g_separated.vp[cluster_prop_name][i.source()] != g_separated.vp[cluster_prop_name][i.target()]:\n",
    "            g_separated.remove_edge(i)\n",
    "    return g_separated"
   ]
  },
  {
   "cell_type": "markdown",
   "metadata": {},
   "source": [
    "### Маленький граф"
   ]
  },
  {
   "cell_type": "markdown",
   "metadata": {},
   "source": [
    "#### Сборка графа из вк и сохранение"
   ]
  },
  {
   "cell_type": "code",
   "execution_count": null,
   "metadata": {},
   "outputs": [],
   "source": [
    "%%time\n",
    "g_small_groups = create_grt_graph(\n",
    "    \"\",\n",
    "    153343759, 58294384 #, 40861100\n",
    ")\n",
    "g_small_groups.save(\"g_small_groups.gt\")"
   ]
  },
  {
   "cell_type": "markdown",
   "metadata": {},
   "source": [
    "Выделение наибольшей компоненты связности"
   ]
  },
  {
   "cell_type": "code",
   "execution_count": null,
   "metadata": {},
   "outputs": [],
   "source": [
    "g_small_groups = grt.GraphView(g_small_groups, vfilt = grt.label_largest_component(g_small_groups))"
   ]
  },
  {
   "cell_type": "markdown",
   "metadata": {},
   "source": [
    "#### Алгоритм отрисовки медленный"
   ]
  },
  {
   "cell_type": "code",
   "execution_count": 25,
   "metadata": {},
   "outputs": [
    {
     "name": "stdout",
     "output_type": "stream",
     "text": [
      "CPU times: user 4.58 s, sys: 0 ns, total: 4.58 s\n",
      "Wall time: 4.62 s\n"
     ]
    }
   ],
   "source": [
    "%%time \n",
    "small_pos = grt.fruchterman_reingold_layout(g_small_groups)\n",
    "g_small_groups.vp.sfdp_pos = small_pos"
   ]
  },
  {
   "cell_type": "markdown",
   "metadata": {},
   "source": [
    "Сохранение картинки графа"
   ]
  },
  {
   "cell_type": "code",
   "execution_count": 268,
   "metadata": {},
   "outputs": [
    {
     "data": {
      "text/plain": [
       "<PropertyMap object with key type 'Vertex' and value type 'vector<double>', for Graph 0x7f4b52367d68, at 0x7f4b5832c240>"
      ]
     },
     "execution_count": 268,
     "metadata": {},
     "output_type": "execute_result"
    }
   ],
   "source": [
    "prop_map = grt.graph_draw(g_small_groups, pos=small_pos, edge_pen_width=0.5, edge_color=(0.25, 0.25, 0.25, 0.5), \n",
    "               output_size=(1000, 1000), output=\"pics/small_g_v3.png\")"
   ]
  },
  {
   "cell_type": "markdown",
   "metadata": {},
   "source": [
    "### Граф экстремистов"
   ]
  },
  {
   "cell_type": "markdown",
   "metadata": {},
   "source": [
    "#### Сборка графа из вк и сохранение"
   ]
  },
  {
   "cell_type": "code",
   "execution_count": null,
   "metadata": {},
   "outputs": [],
   "source": [
    "%%time\n",
    "restricted_groups = create_grt_graph(\n",
    "    \"\",\n",
    "    136917456, 26857910, 4336323, 155183862, 26204991, 1725471, 46906865, \n",
    "    12279185, 11643503, 32940769, 21349774, 23940961, 67243445, 19420210\n",
    ")\n",
    "restricted_groups.save(\"restricted_groups_v2.gt\")"
   ]
  },
  {
   "cell_type": "markdown",
   "metadata": {},
   "source": [
    "#### Алгоритм отрисовки быстрый"
   ]
  },
  {
   "cell_type": "code",
   "execution_count": 59,
   "metadata": {},
   "outputs": [
    {
     "name": "stdout",
     "output_type": "stream",
     "text": [
      "CPU times: user 2h 45min 9s, sys: 1.05 s, total: 2h 45min 10s\n",
      "Wall time: 2h 45min 28s\n"
     ]
    }
   ],
   "source": [
    "%%time \n",
    "restr_pos_sfdp = grt.sfdp_layout(restricted_groups) \n",
    "restricted_groups.vp.sfdp_pos = restr_pos_sfdp \n",
    "restricted_groups.save(\"restricted_groups_v3.gt\")"
   ]
  },
  {
   "cell_type": "code",
   "execution_count": 276,
   "metadata": {},
   "outputs": [
    {
     "name": "stdout",
     "output_type": "stream",
     "text": [
      "CPU times: user 2min 54s, sys: 143 ms, total: 2min 55s\n",
      "Wall time: 2min 56s\n"
     ]
    },
    {
     "data": {
      "text/plain": [
       "<PropertyMap object with key type 'Vertex' and value type 'vector<double>', for Graph 0x7f4b504a7828, at 0x7f4b504a7da0>"
      ]
     },
     "execution_count": 276,
     "metadata": {},
     "output_type": "execute_result"
    }
   ],
   "source": [
    "%%time\n",
    "prop_map = grt.graph_draw(restricted_groups, pos=restricted_groups.vp.sfdp_pos, \n",
    "               edge_pen_width=0.5, vertex_size=7.5,\n",
    "               edge_color=(0.25, 0.25, 0.25, 0.25),\n",
    "               output_size=(5000, 5000),\n",
    "               output=\"pics/restricted_groups_sfdp_v1.png\")"
   ]
  },
  {
   "cell_type": "markdown",
   "metadata": {},
   "source": [
    "### Граф МИФИ"
   ]
  },
  {
   "cell_type": "markdown",
   "metadata": {},
   "source": [
    "#### Сборка графа из вк и сохранение"
   ]
  },
  {
   "cell_type": "code",
   "execution_count": null,
   "metadata": {},
   "outputs": [],
   "source": [
    "%%time\n",
    "mephi_group = create_grt_graph(\n",
    "    \"\",\n",
    "    69589815\n",
    ")\n",
    "mephi_group.save(\"mephi_group_v2.gt\")"
   ]
  },
  {
   "cell_type": "markdown",
   "metadata": {},
   "source": [
    "#### Алгоритм отрисовки быстрый"
   ]
  },
  {
   "cell_type": "code",
   "execution_count": 9,
   "metadata": {},
   "outputs": [
    {
     "name": "stdout",
     "output_type": "stream",
     "text": [
      "CPU times: user 1h 3min, sys: 700 ms, total: 1h 3min 1s\n",
      "Wall time: 1h 3min 11s\n"
     ]
    }
   ],
   "source": [
    "%%time \n",
    "mephi_pos_sfdp = grt.sfdp_layout(mephi_group) \n",
    "mephi_group.vp.sfdp_pos = mephi_pos_sfdp \n",
    "mephi_group.save(\"mephi_group_v3.gt\")"
   ]
  },
  {
   "cell_type": "code",
   "execution_count": null,
   "metadata": {},
   "outputs": [
    {
     "name": "stdout",
     "output_type": "stream",
     "text": [
      "CPU times: user 53.1 s, sys: 139 ms, total: 53.2 s\n",
      "Wall time: 53.5 s\n"
     ]
    },
    {
     "data": {
      "text/plain": [
       "<PropertyMap object with key type 'Vertex' and value type 'vector<double>', for Graph 0x7f82a842fba8, at 0x7f82a850e898>"
      ]
     },
     "execution_count": 10,
     "metadata": {},
     "output_type": "execute_result"
    }
   ],
   "source": [
    "%%time\n",
    "grt.graph_draw(mephi_group, pos=mephi_group.vp.sfdp_pos, \n",
    "               edge_pen_width=0.5, vertex_size=7.5,\n",
    "               edge_color=(0.25, 0.25, 0.25, 0.25),\n",
    "               output_size=(5000, 5000),\n",
    "               output=\"pics/mephi_group_sfdp_v1.png\")"
   ]
  },
  {
   "cell_type": "markdown",
   "metadata": {},
   "source": [
    "### Выделение наибольшей компоненты связности"
   ]
  },
  {
   "cell_type": "code",
   "execution_count": 14,
   "metadata": {},
   "outputs": [],
   "source": [
    "mephi_group_lc = grt.GraphView(mephi_group, vfilt = grt.label_largest_component(mephi_group))\n",
    "mephi_group_lc.save(\"mephi_group_lc_v1.gt\")"
   ]
  },
  {
   "cell_type": "markdown",
   "metadata": {},
   "source": [
    "#### Алгоритм отрисовки быстрый"
   ]
  },
  {
   "cell_type": "code",
   "execution_count": 12,
   "metadata": {},
   "outputs": [
    {
     "name": "stdout",
     "output_type": "stream",
     "text": [
      "CPU times: user 46min 16s, sys: 218 ms, total: 46min 16s\n",
      "Wall time: 46min 23s\n"
     ]
    }
   ],
   "source": [
    "%%time \n",
    "mephi_lc_pos_sfdp = grt.sfdp_layout(mephi_group_lc) \n",
    "mephi_group_lc.vp.sfdp_pos = mephi_lc_pos_sfdp \n",
    "mephi_group_lc.save(\"mephi_group_lc_v2.gt\")"
   ]
  },
  {
   "cell_type": "code",
   "execution_count": 279,
   "metadata": {},
   "outputs": [
    {
     "name": "stdout",
     "output_type": "stream",
     "text": [
      "CPU times: user 2min 23s, sys: 234 ms, total: 2min 24s\n",
      "Wall time: 2min 25s\n"
     ]
    },
    {
     "data": {
      "text/plain": [
       "<PropertyMap object with key type 'Vertex' and value type 'vector<double>', for Graph 0x7f4b589b92b0, at 0x7f4b589b96d8>"
      ]
     },
     "execution_count": 279,
     "metadata": {},
     "output_type": "execute_result"
    }
   ],
   "source": [
    "%%time\n",
    "prop_map = grt.graph_draw(mephi_group_lc, pos=mephi_group_lc.vp.sfdp_pos, \n",
    "               edge_pen_width=0.5, vertex_size=7.5,\n",
    "               edge_color=(0.25, 0.25, 0.25, 0.25),\n",
    "               output_size=(5000, 5000), output=\"pics/mephi_group_lc_sfdp_v2.png\")"
   ]
  },
  {
   "cell_type": "markdown",
   "metadata": {},
   "source": [
    "# Кластеризация"
   ]
  },
  {
   "cell_type": "markdown",
   "metadata": {},
   "source": [
    "### Маленький граф"
   ]
  },
  {
   "cell_type": "code",
   "execution_count": 270,
   "metadata": {},
   "outputs": [
    {
     "name": "stdout",
     "output_type": "stream",
     "text": [
      "small_g_infomap\n",
      "List of vertices filling succeed\n",
      "List of edges filling succeed\n",
      "Graph in igraph notation created\n",
      "Clustering succeed in 1.436564 seconds\n",
      "Number of clusters = 10\n",
      "Igraph clustering result saved in graph-tool graph\n",
      "CPU times: user 1.57 s, sys: 2.04 ms, total: 1.57 s\n",
      "Wall time: 1.58 s\n",
      "Modularity = 0.467831\n",
      "\n",
      "small_g_leading_eigenvector\n",
      "List of vertices filling succeed\n",
      "List of edges filling succeed\n",
      "Graph in igraph notation created\n",
      "Clustering succeed in 0.207627 seconds\n",
      "Number of clusters = 6\n",
      "Igraph clustering result saved in graph-tool graph\n",
      "CPU times: user 310 ms, sys: 38.2 ms, total: 348 ms\n",
      "Wall time: 352 ms\n",
      "Modularity = 0.436747\n",
      "\n",
      "small_g_label_propagation\n",
      "List of vertices filling succeed\n",
      "List of edges filling succeed\n",
      "Graph in igraph notation created\n",
      "Clustering succeed in 0.004234 seconds\n",
      "Number of clusters = 6\n",
      "Igraph clustering result saved in graph-tool graph\n",
      "CPU times: user 138 ms, sys: 0 ns, total: 138 ms\n",
      "Wall time: 138 ms\n",
      "Modularity = 0.453128\n",
      "\n",
      "small_g_multilevel\n",
      "List of vertices filling succeed\n",
      "List of edges filling succeed\n",
      "Graph in igraph notation created\n",
      "Clustering succeed in 0.006845 seconds\n",
      "Number of clusters = 6\n",
      "Igraph clustering result saved in graph-tool graph\n",
      "CPU times: user 144 ms, sys: 1.11 ms, total: 145 ms\n",
      "Wall time: 145 ms\n",
      "Modularity = 0.467066\n",
      "\n",
      "small_g_walktrap\n",
      "List of vertices filling succeed\n",
      "List of edges filling succeed\n",
      "Graph in igraph notation created\n",
      "VD -> VC completed\n",
      "Clustering succeed in 0.083035 seconds\n",
      "Number of clusters = 11\n",
      "Igraph clustering result saved in graph-tool graph\n",
      "CPU times: user 233 ms, sys: 0 ns, total: 233 ms\n",
      "Wall time: 238 ms\n",
      "Modularity = 0.421945\n",
      "\n",
      "small_g_fastgreedy\n",
      "List of vertices filling succeed\n",
      "List of edges filling succeed\n",
      "Graph in igraph notation created\n",
      "VD -> VC completed\n",
      "Clustering succeed in 0.029927 seconds\n",
      "Number of clusters = 5\n",
      "Igraph clustering result saved in graph-tool graph\n",
      "CPU times: user 167 ms, sys: 0 ns, total: 167 ms\n",
      "Wall time: 167 ms\n",
      "Modularity = 0.434820\n",
      "\n",
      "small_g_edge_betweenness\n",
      "List of vertices filling succeed\n",
      "List of edges filling succeed\n",
      "Graph in igraph notation created\n",
      "VD -> VC completed\n",
      "Clustering succeed in 91.897429 seconds\n",
      "Number of clusters = 8\n",
      "Igraph clustering result saved in graph-tool graph\n",
      "CPU times: user 1min 31s, sys: 2.39 ms, total: 1min 31s\n",
      "Wall time: 1min 32s\n",
      "Modularity = 0.450384\n",
      "\n"
     ]
    }
   ],
   "source": [
    "igr_methods_small = {'small_g_infomap': igr.Graph.community_infomap,\n",
    "                     'small_g_leading_eigenvector': igr.Graph.community_leading_eigenvector,\n",
    "                     'small_g_label_propagation': igr.Graph.community_label_propagation,\n",
    "                     'small_g_multilevel': igr.Graph.community_multilevel,\n",
    "                     'small_g_walktrap': igr.Graph.community_walktrap,\n",
    "                     'small_g_fastgreedy': igr.Graph.community_fastgreedy,\n",
    "                     'small_g_edge_betweenness': igr.Graph.community_edge_betweenness}\n",
    "for prop_name, method in igr_methods_small.items():\n",
    "    print(prop_name)\n",
    "    %time ig_clustering(g_small_groups, method, prop_name)\n",
    "    grt.graph_draw(\n",
    "        g_small_groups, \n",
    "        pos=g_small_groups.vp.sfdp_pos,\n",
    "        vertex_fill_color=g_small_groups.vp[prop_name + \"_cluster_color\"],\n",
    "        edge_color=(0.25, 0.25, 0.25, 0.25),\n",
    "        output_size=(1000, 1000),\n",
    "        output=\"pics/\" + prop_name + \".png\"\n",
    "    )\n",
    "    g_small_groups.save(\"g_small_groups_v4.gt\")\n",
    "    print(\"Modularity = %f\" % inference.modularity(\n",
    "        g_small_groups,\n",
    "        g_small_groups.vp[prop_name + \"_cluster\"]\n",
    "    ))\n",
    "    print()    "
   ]
  },
  {
   "cell_type": "markdown",
   "metadata": {},
   "source": [
    "#### Объединение вершин кластеров"
   ]
  },
  {
   "cell_type": "code",
   "execution_count": 249,
   "metadata": {},
   "outputs": [
    {
     "name": "stdout",
     "output_type": "stream",
     "text": [
      "small_g_infomap union clusters succeed\n",
      "small_g_leading_eigenvector union clusters succeed\n",
      "small_g_label_propagation union clusters succeed\n",
      "small_g_multilevel union clusters succeed\n",
      "small_g_walktrap union clusters succeed\n",
      "small_g_fastgreedy union clusters succeed\n",
      "small_g_edge_betweenness union clusters succeed\n"
     ]
    }
   ],
   "source": [
    "for prop_name in igr_methods_small.keys():\n",
    "    g_small_mini = clusters_to_graph(g_small_groups, prop_name + \"_cluster\")\n",
    "    g_small_mini.vp.sfdp_pos = grt.sfdp_layout(g_small_mini)\n",
    "    g_small_mini.save(prop_name + \"_mini.gt\")\n",
    "    g_small_mini.ep.colors = g_small_mini.new_ep('vector<double>')\n",
    "    for e in g_small_mini.edges():\n",
    "        g_small_mini.ep.colors[e] = [0] + list(g_small_mini.vp[prop_name + \"_cluster_color\"][e.source()]) + \\\n",
    "        [1] + list(g_small_mini.vp[prop_name + \"_cluster_color\"][e.target()])\n",
    "    grt.graph_draw(\n",
    "        g_small_mini, \n",
    "        pos=g_small_mini.vp.sfdp_pos,\n",
    "        vertex_size=grt.prop_to_size(\n",
    "            g_small_mini.vp.vertex_size,\n",
    "            mi=1, ma=157, log=True\n",
    "        ),\n",
    "        edge_pen_width=grt.prop_to_size(\n",
    "            g_small_mini.ep.edge_size,\n",
    "            mi=1, ma=100, power=1\n",
    "        ),\n",
    "        edge_gradient=g_small_mini.ep.colors,\n",
    "        vertex_fill_color=g_small_mini.vp[prop_name + \"_cluster_color\"],\n",
    "        vertex_pen_width=1,\n",
    "        vertex_color=[0, 0, 0, 1],\n",
    "        edge_color=(0.25, 0.25, 0.25, 0.5),\n",
    "        output_size=(1000, 1000),\n",
    "        output=\"pics/\" + prop_name + \"_mini_colored.png\"\n",
    "    )\n",
    "    print(prop_name + \" union clusters succeed\")"
   ]
  },
  {
   "cell_type": "markdown",
   "metadata": {},
   "source": [
    "### Граф экстремистов"
   ]
  },
  {
   "cell_type": "code",
   "execution_count": 271,
   "metadata": {},
   "outputs": [
    {
     "name": "stdout",
     "output_type": "stream",
     "text": [
      "restr_g_leading_eigenvector\n",
      "Modularity = 0.323772\n",
      "\n",
      "restr_g_label_propagation\n",
      "Modularity = 0.176764\n",
      "\n",
      "restr_g_multilevel\n",
      "Modularity = 0.511322\n",
      "\n",
      "restr_g_fastgreedy\n",
      "Modularity = 0.499931\n",
      "\n",
      "restr_g_infomap\n",
      "Modularity = 0.466302\n",
      "\n"
     ]
    }
   ],
   "source": [
    "igr_restr_methods = {\n",
    "    'restr_g_leading_eigenvector': igr.Graph.community_leading_eigenvector,\n",
    "    'restr_g_label_propagation': igr.Graph.community_label_propagation,\n",
    "    'restr_g_multilevel': igr.Graph.community_multilevel,\n",
    "    #'restr_g_edge_betweenness': igr.Graph.community_edge_betweenness,\n",
    "    'restr_g_fastgreedy': igr.Graph.community_fastgreedy,\n",
    "    'restr_g_infomap': igr.Graph.community_infomap,\n",
    "    #'restr_g_walktrap': igr.Graph.community_walktrap\n",
    "    }\n",
    "for prop_name, method in igr_restr_methods.items():\n",
    "    print(prop_name)\n",
    " #   %time ig_clustering(restricted_groups, method, prop_name)\n",
    "    grt.graph_draw(\n",
    "        restricted_groups, \n",
    "        pos=restricted_groups.vp.sfdp_pos,\n",
    "        vertex_fill_color=restricted_groups.vp[prop_name + \"_cluster_color\"],\n",
    "        vertex_size=7.5,\n",
    "        edge_color=(0.25, 0.25, 0.25, 0.25),\n",
    "        output_size=(5000, 5000),\n",
    "        output=\"pics/\" + prop_name + \".png\"\n",
    "    )\n",
    "    restricted_groups.save(\"restricted_groups_v4.gt\")\n",
    "    print(\"Modularity = %f\" % inference.modularity(\n",
    "        restricted_groups,\n",
    "        restricted_groups.vp[prop_name + \"_cluster\"]\n",
    "    ))\n",
    "    print()"
   ]
  },
  {
   "cell_type": "markdown",
   "metadata": {},
   "source": [
    "#### Объединение вершин кластеров"
   ]
  },
  {
   "cell_type": "code",
   "execution_count": null,
   "metadata": {},
   "outputs": [],
   "source": [
    "for prop_name in igr_restr_methods.keys():\n",
    "    if prop_name == \"restr_g_infomap\":\n",
    "        next\n",
    "    start_time = time.time()\n",
    "    restr_mini = clusters_to_graph(restricted_groups, prop_name + \"_cluster\")\n",
    "    restr_mini.vp.sfdp_pos = grt.sfdp_layout(\n",
    "        restr_mini,\n",
    "        vweight=restr_mini.vp.vertex_size,\n",
    "        eweight=restr_mini.ep.edge_size\n",
    "    )    \n",
    "    restr_mini.ep.colors = restr_mini.new_ep('vector<double>')\n",
    "    for e in restr_mini.edges():\n",
    "        restr_mini.ep.colors[e] = [0] + list(restr_mini.vp[prop_name + \"_cluster_color\"][e.source()]) + \\\n",
    "        [1] + list(restr_mini.vp[prop_name + \"_cluster_color\"][e.target()])    \n",
    "    restr_mini.save(prop_name + \"_mini.gt\")\n",
    "    \n",
    "    #отрисовка\n",
    "    grt.graph_draw(\n",
    "        restr_mini, \n",
    "        pos=restr_mini.vp.sfdp_pos,\n",
    "        vertex_size=grt.prop_to_size(\n",
    "            restr_mini.vp.vertex_size,\n",
    "            mi=1, ma=100, log=True\n",
    "        ),\n",
    "        edge_pen_width=grt.prop_to_size(\n",
    "            restr_mini.ep.edge_size,\n",
    "            mi=1, ma=100, power=1\n",
    "        ),\n",
    "        edge_gradient=restr_mini.ep.colors,\n",
    "        vertex_fill_color=restr_mini.vp[prop_name + \"_cluster_color\"],\n",
    "        vertex_pen_width=1,\n",
    "        vertex_color=[0, 0, 0, 1],\n",
    "        edge_color=(0.25, 0.25, 0.25, 0.5),\n",
    "        output_size=(1000, 1000),\n",
    "        output=\"pics/\" + prop_name + \"_mini.png\"\n",
    "    )\n",
    "    print(prop_name + \" union clusters succeed in %4f seconds\" % (time.time() - start_time))"
   ]
  },
  {
   "cell_type": "code",
   "execution_count": 274,
   "metadata": {},
   "outputs": [
    {
     "data": {
      "text/plain": [
       "<PropertyMap object with key type 'Vertex' and value type 'vector<double>', for Graph 0x7f4b521664a8, at 0x7f4b51ca2518>"
      ]
     },
     "execution_count": 274,
     "metadata": {},
     "output_type": "execute_result"
    }
   ],
   "source": [
    "prop_name = \"restr_g_infomap\"\n",
    "start_time = time.time()\n",
    "restr_mini = clusters_to_graph(restricted_groups, prop_name + \"_cluster\")\n",
    "restr_mini.vp.sfdp_pos = grt.sfdp_layout(\n",
    "    restr_mini,\n",
    "    vweight=restr_mini.vp.vertex_size,\n",
    "    eweight=restr_mini.ep.edge_size\n",
    ")\n",
    "restr_mini.ep.colors = restr_mini.new_ep('vector<double>')\n",
    "for e in restr_mini.edges():\n",
    "    restr_mini.ep.colors[e] = [0] + list(restr_mini.vp[prop_name + \"_cluster_color\"][e.source()]) + \\\n",
    "    [1] + list(restr_mini.vp[prop_name + \"_cluster_color\"][e.target()])\n",
    "restr_mini.save(prop_name + \"_mini.gt\")\n",
    "grt.graph_draw(\n",
    "    restr_mini, \n",
    "    pos=grt.sfdp_layout(\n",
    "        restr_mini,\n",
    "        #vweight=restr_mini.vp.vertex_size,\n",
    "        #eweight=grt.prop_to_size(\n",
    "        #    restr_mini.ep.edge_size,\n",
    "        #    mi=1, ma=100000, power=1\n",
    "        #)\n",
    "    ),\n",
    "    vertex_size=grt.prop_to_size(\n",
    "        restr_mini.vp.vertex_size,\n",
    "        mi=1, ma=20, log=True\n",
    "    ),\n",
    "    edge_pen_width=grt.prop_to_size(\n",
    "        restr_mini.ep.edge_size,\n",
    "        mi=1, ma=100, power=1\n",
    "    ),\n",
    "    edge_gradient=restr_mini.ep.colors,\n",
    "    vertex_fill_color=restr_mini.vp[prop_name + \"_cluster_color\"],\n",
    "    vertex_pen_width=1,\n",
    "    vertex_color=[0, 0, 0, 1],\n",
    "    edge_color=(0.25, 0.25, 0.25, 0.25),\n",
    "    output_size=(1000, 1000),\n",
    "    output=\"pics/\" + prop_name + \"_mini.png\"\n",
    ")"
   ]
  },
  {
   "cell_type": "code",
   "execution_count": 280,
   "metadata": {},
   "outputs": [
    {
     "data": {
      "text/plain": [
       "<PropertyMap object with key type 'Vertex' and value type 'vector<double>', for Graph 0x7f4b5875d828, at 0x7f4b5875dc18>"
      ]
     },
     "execution_count": 280,
     "metadata": {},
     "output_type": "execute_result"
    }
   ],
   "source": [
    "prop_name = \"restr_g_label_propagation\"\n",
    "start_time = time.time()\n",
    "restr_mini = clusters_to_graph(restricted_groups, prop_name + \"_cluster\")\n",
    "restr_mini.vp.sfdp_pos = grt.sfdp_layout(\n",
    "    restr_mini,\n",
    "    vweight=restr_mini.vp.vertex_size,\n",
    "    eweight=restr_mini.ep.edge_size\n",
    ")\n",
    "restr_mini.ep.colors = restr_mini.new_ep('vector<double>')\n",
    "for e in restr_mini.edges():\n",
    "    restr_mini.ep.colors[e] = [0] + list(restr_mini.vp[prop_name + \"_cluster_color\"][e.source()]) + \\\n",
    "    [1] + list(restr_mini.vp[prop_name + \"_cluster_color\"][e.target()])\n",
    "restr_mini.save(prop_name + \"_mini.gt\")\n",
    "grt.graph_draw(\n",
    "    restr_mini, \n",
    "    pos=grt.sfdp_layout(\n",
    "        restr_mini,\n",
    "        #vweight=restr_mini.vp.vertex_size,\n",
    "        #eweight=grt.prop_to_size(\n",
    "        #    restr_mini.ep.edge_size,\n",
    "        #    mi=1, ma=100000, power=1\n",
    "        #)\n",
    "    ),\n",
    "    vertex_size=grt.prop_to_size(\n",
    "        restr_mini.vp.vertex_size,\n",
    "        mi=1, ma=100, log=True\n",
    "    ),\n",
    "    edge_pen_width=grt.prop_to_size(\n",
    "        restr_mini.ep.edge_size,\n",
    "        mi=1, ma=100, power=1\n",
    "    ),\n",
    "    edge_gradient=restr_mini.ep.colors,\n",
    "    vertex_fill_color=restr_mini.vp[prop_name + \"_cluster_color\"],\n",
    "    vertex_pen_width=1,\n",
    "    vertex_color=[0, 0, 0, 1],\n",
    "    edge_color=(0.25, 0.25, 0.25, 0.25),\n",
    "    output_size=(1000, 1000),\n",
    "    output=\"pics/\" + prop_name + \"_mini_v2.png\"\n",
    ")"
   ]
  },
  {
   "cell_type": "code",
   "execution_count": 282,
   "metadata": {},
   "outputs": [
    {
     "data": {
      "text/plain": [
       "<PropertyMap object with key type 'Vertex' and value type 'vector<double>', for Graph 0x7f4b5875d320, at 0x7f4b58339f28>"
      ]
     },
     "execution_count": 282,
     "metadata": {},
     "output_type": "execute_result"
    }
   ],
   "source": [
    "prop_name = \"restr_g_multilevel\"\n",
    "start_time = time.time()\n",
    "restr_mini = clusters_to_graph(restricted_groups, prop_name + \"_cluster\")\n",
    "restr_mini.vp.sfdp_pos = grt.sfdp_layout(\n",
    "    restr_mini,\n",
    "    vweight=restr_mini.vp.vertex_size,\n",
    "    eweight=restr_mini.ep.edge_size\n",
    ")\n",
    "restr_mini.ep.colors = restr_mini.new_ep('vector<double>')\n",
    "for e in restr_mini.edges():\n",
    "    restr_mini.ep.colors[e] = [0] + list(restr_mini.vp[prop_name + \"_cluster_color\"][e.source()]) + \\\n",
    "    [1] + list(restr_mini.vp[prop_name + \"_cluster_color\"][e.target()])\n",
    "restr_mini.save(prop_name + \"_mini.gt\")\n",
    "grt.graph_draw(\n",
    "    restr_mini, \n",
    "    pos=grt.sfdp_layout(\n",
    "        restr_mini,\n",
    "        vweight=restr_mini.vp.vertex_size,\n",
    "        #eweight=grt.prop_to_size(\n",
    "        #    restr_mini.ep.edge_size,\n",
    "        #    mi=1, ma=100000, power=1\n",
    "        #)\n",
    "    ),\n",
    "    vertex_size=grt.prop_to_size(\n",
    "        restr_mini.vp.vertex_size,\n",
    "        mi=1, ma=100, log=True\n",
    "    ),\n",
    "    edge_pen_width=grt.prop_to_size(\n",
    "        restr_mini.ep.edge_size,\n",
    "        mi=1, ma=100, power=1\n",
    "    ),\n",
    "    edge_gradient=restr_mini.ep.colors,\n",
    "    vertex_fill_color=restr_mini.vp[prop_name + \"_cluster_color\"],\n",
    "    vertex_pen_width=1,\n",
    "    vertex_color=[0, 0, 0, 1],\n",
    "    edge_color=(0.25, 0.25, 0.25, 0.25),\n",
    "    output_size=(1000, 1000),\n",
    "    output=\"pics/\" + prop_name + \"_mini_v2.png\"\n",
    ")"
   ]
  },
  {
   "cell_type": "markdown",
   "metadata": {},
   "source": [
    "### Граф МИФИ"
   ]
  },
  {
   "cell_type": "markdown",
   "metadata": {},
   "source": [
    "#### Наибольшая компонента"
   ]
  },
  {
   "cell_type": "code",
   "execution_count": 291,
   "metadata": {},
   "outputs": [
    {
     "data": {
      "text/plain": [
       "<PropertyMap object with key type 'Vertex' and value type 'int16_t', for Graph 0x7f4b589b92b0, at 0x7f4b52260898>"
      ]
     },
     "execution_count": 291,
     "metadata": {},
     "output_type": "execute_result"
    }
   ],
   "source": [
    "mephi_group_lc.vp.mephi_g_lc_label_propagation_cluster"
   ]
  },
  {
   "cell_type": "code",
   "execution_count": 273,
   "metadata": {},
   "outputs": [
    {
     "name": "stdout",
     "output_type": "stream",
     "text": [
      "mephi_g_lc_leading_eigenvector\n",
      "Modularity = 0.348633\n",
      "\n",
      "mephi_g_lc_label_propagation\n",
      "Modularity = 0.314405\n",
      "\n",
      "mephi_g_lc_multilevel\n",
      "Modularity = 0.669068\n",
      "\n",
      "mephi_g_lc_fastgreedy\n",
      "Modularity = 0.617763\n",
      "\n",
      "mephi_g_lc_infomap\n",
      "Modularity = 0.559421\n",
      "\n"
     ]
    }
   ],
   "source": [
    "igr_mephi_lc_methods = {\n",
    "    'mephi_g_lc_leading_eigenvector': igr.Graph.community_leading_eigenvector,\n",
    "    'mephi_g_lc_label_propagation': igr.Graph.community_label_propagation,\n",
    "    'mephi_g_lc_multilevel': igr.Graph.community_multilevel,\n",
    "    #'mephi_g_lc_edge_betweenness': igr.Graph.community_edge_betweenness,\n",
    "    'mephi_g_lc_fastgreedy': igr.Graph.community_fastgreedy,\n",
    "    'mephi_g_lc_infomap': igr.Graph.community_infomap,\n",
    "    #'mephi_g_lc_walktrap': igr.Graph.community_walktrap\n",
    "    }\n",
    "for prop_name, method in igr_mephi_lc_methods.items():\n",
    "    print(prop_name)\n",
    "    #%time ig_clustering(mephi_group_lc, method, prop_name)\n",
    "    grt.graph_draw(\n",
    "        mephi_group_lc, \n",
    "        pos=mephi_group_lc.vp.sfdp_pos,\n",
    "        vertex_fill_color=mephi_group_lc.vp[prop_name + \"_cluster_color\"],\n",
    "        vertex_size=7.5,\n",
    "        edge_color=(0.25, 0.25, 0.25, 0.25),\n",
    "        output_size=(5000, 5000),\n",
    "        output=\"pics/\" + prop_name + \".png\"\n",
    "    )\n",
    "    mephi_group_lc.save(\"mephi_group_lc_v4.gt\")\n",
    "    print(\"Modularity = %f\" % inference.modularity(\n",
    "        mephi_group_lc,\n",
    "        mephi_group_lc.vp[prop_name + \"_cluster\"]\n",
    "    ))\n",
    "    print()"
   ]
  },
  {
   "cell_type": "code",
   "execution_count": 287,
   "metadata": {},
   "outputs": [
    {
     "name": "stdout",
     "output_type": "stream",
     "text": [
      "mephi_g_lc_leading_eigenvector\n",
      "List of vertices filling succeed\n",
      "List of edges filling succeed\n",
      "Graph in igraph notation created\n",
      "Clustering succeed in 51.198507 seconds\n",
      "Number of clusters = 2\n",
      "Igraph clustering result saved in graph-tool graph\n",
      "CPU times: user 1min 33s, sys: 260 ms, total: 1min 33s\n",
      "Wall time: 1min 34s\n",
      "Modularity = 0.348633\n",
      "\n"
     ]
    }
   ],
   "source": [
    "igr_mephi_lc_methods = {\n",
    "    'mephi_g_lc_leading_eigenvector': igr.Graph.community_leading_eigenvector,\n",
    "    'mephi_g_lc_label_propagation': igr.Graph.community_label_propagation,\n",
    "    'mephi_g_lc_multilevel': igr.Graph.community_multilevel,\n",
    "    #'mephi_g_lc_edge_betweenness': igr.Graph.community_edge_betweenness,\n",
    "    'mephi_g_lc_fastgreedy': igr.Graph.community_fastgreedy,\n",
    "    'mephi_g_lc_infomap': igr.Graph.community_infomap,\n",
    "    #'mephi_g_lc_walktrap': igr.Graph.community_walktrap\n",
    "    }\n",
    "for prop_name, method in {'mephi_g_lc_leading_eigenvector': igr.Graph.community_leading_eigenvector}.items():\n",
    "    print(prop_name)\n",
    "    %time ig_clustering(mephi_group_lc, method, prop_name)\n",
    "    grt.graph_draw(\n",
    "        mephi_group_lc, \n",
    "        pos=mephi_group_lc.vp.sfdp_pos,\n",
    "        vertex_fill_color=mephi_group_lc.vp[prop_name + \"_cluster_color\"],\n",
    "        vertex_size=7.5,\n",
    "        edge_color=(0.25, 0.25, 0.25, 0.25),\n",
    "        output_size=(5000, 5000),\n",
    "        output=\"pics/\" + prop_name + \".png\"\n",
    "    )\n",
    "    mephi_group_lc.save(\"mephi_group_lc_v4.gt\")\n",
    "    print(\"Modularity = %f\" % inference.modularity(\n",
    "        mephi_group_lc,\n",
    "        mephi_group_lc.vp[prop_name + \"_cluster\"]\n",
    "    ))\n",
    "    print()"
   ]
  },
  {
   "cell_type": "markdown",
   "metadata": {},
   "source": [
    "#### Объединение вершин кластеров"
   ]
  },
  {
   "cell_type": "code",
   "execution_count": null,
   "metadata": {},
   "outputs": [],
   "source": [
    "for prop_name in igr_mephi_lc_methods.keys():\n",
    "    if prop_name == 'mephi_g_lc_infomap':\n",
    "        next\n",
    "    start_time = time.time()\n",
    "    mephi_lc_mini = clusters_to_graph(mephi_group_lc, prop_name + \"_cluster\")\n",
    "    mephi_lc_mini.vp.sfdp_pos = grt.sfdp_layout(\n",
    "        mephi_lc_mini,\n",
    "        vweight=mephi_lc_mini.vp.vertex_size,\n",
    "        eweight=mephi_lc_mini.ep.edge_size\n",
    "    )\n",
    "    mephi_lc_mini.ep.colors = mephi_lc_mini.new_ep('vector<double>')\n",
    "    for e in mephi_lc_mini.edges():\n",
    "        mephi_lc_mini.ep.colors[e] = [0] + list(mephi_lc_mini.vp[prop_name + \"_cluster_color\"][e.source()]) + \\\n",
    "        [1] + list(mephi_lc_mini.vp[prop_name + \"_cluster_color\"][e.target()])    \n",
    "    mephi_lc_mini.save(prop_name + \"_mini.gt\")\n",
    "    mephi_lc_mini.save(prop_name + \"_mini.gt\")\n",
    "    \n",
    "    #отрисовка\n",
    "    grt.graph_draw(\n",
    "        mephi_lc_mini, \n",
    "        pos=mephi_lc_mini.vp.sfdp_pos,\n",
    "        vertex_size=grt.prop_to_size(\n",
    "            mephi_lc_mini.vp.vertex_size,\n",
    "            mi=1, ma=100, log=True\n",
    "        ),\n",
    "        edge_pen_width=grt.prop_to_size(\n",
    "            mephi_lc_mini.ep.edge_size,\n",
    "            mi=1, ma=100, power=1\n",
    "        ),\n",
    "        edge_gradient=mephi_lc_mini.ep.colors,\n",
    "        vertex_fill_color=mephi_lc_mini.vp[prop_name + \"_cluster_color\"],\n",
    "        vertex_pen_width=1,\n",
    "        vertex_color=[0, 0, 0, 1],\n",
    "        edge_color=(0.25, 0.25, 0.25, 0.5),\n",
    "        output_size=(1000, 1000),\n",
    "        output=\"pics/\" + prop_name + \"_mini.png\"\n",
    "    )\n",
    "    print(prop_name + \" union clusters succeed in %4f seconds\" % (time.time() - start_time))"
   ]
  },
  {
   "cell_type": "code",
   "execution_count": 284,
   "metadata": {},
   "outputs": [
    {
     "data": {
      "text/plain": [
       "<PropertyMap object with key type 'Vertex' and value type 'vector<double>', for Graph 0x7f4b525664a8, at 0x7f4b5860a5c0>"
      ]
     },
     "execution_count": 284,
     "metadata": {},
     "output_type": "execute_result"
    }
   ],
   "source": [
    "prop_name = \"mephi_g_lc_infomap\"\n",
    "start_time = time.time()\n",
    "mephi_lc_mini = clusters_to_graph(mephi_group_lc, prop_name + \"_cluster\")\n",
    "mephi_lc_mini.vp.sfdp_pos = grt.sfdp_layout(\n",
    "    mephi_lc_mini,\n",
    "    vweight=mephi_lc_mini.vp.vertex_size,\n",
    "    eweight=mephi_lc_mini.ep.edge_size\n",
    ")\n",
    "mephi_lc_mini.ep.colors = mephi_lc_mini.new_ep('vector<double>')\n",
    "for e in mephi_lc_mini.edges():\n",
    "    mephi_lc_mini.ep.colors[e] = [0] + list(mephi_lc_mini.vp[prop_name + \"_cluster_color\"][e.source()]) + \\\n",
    "    [1] + list(mephi_lc_mini.vp[prop_name + \"_cluster_color\"][e.target()])\n",
    "mephi_lc_mini.save(prop_name + \"_mini.gt\")\n",
    "grt.graph_draw(\n",
    "    mephi_lc_mini, \n",
    "    pos=grt.sfdp_layout(\n",
    "        mephi_lc_mini,\n",
    "        #vweight=mephi_lc_mini.vp.vertex_size,\n",
    "        #eweight=grt.prop_to_size(\n",
    "        #    mephi_lc_mini.ep.edge_size,\n",
    "        #    mi=1, ma=100000, power=1\n",
    "        #)\n",
    "    ),\n",
    "    vertex_size=grt.prop_to_size(\n",
    "        mephi_lc_mini.vp.vertex_size,\n",
    "        mi=1, ma=20, log=True\n",
    "    ),\n",
    "    edge_pen_width=grt.prop_to_size(\n",
    "        mephi_lc_mini.ep.edge_size,\n",
    "        mi=1, ma=100, power=1\n",
    "    ),\n",
    "    edge_gradient=mephi_lc_mini.ep.colors,\n",
    "    vertex_fill_color=mephi_lc_mini.vp[prop_name + \"_cluster_color\"],\n",
    "    vertex_pen_width=1,\n",
    "    vertex_color=[0, 0, 0, 1],\n",
    "    edge_color=(0.25, 0.25, 0.25, 0.25),\n",
    "    output_size=(1000, 1000),\n",
    "    output=\"pics/\" + prop_name + \"_mini.png\"\n",
    ")"
   ]
  },
  {
   "cell_type": "code",
   "execution_count": 297,
   "metadata": {},
   "outputs": [
    {
     "data": {
      "text/plain": [
       "<PropertyMap object with key type 'Vertex' and value type 'vector<double>', for Graph 0x7f4b5215fba8, at 0x7f4b584ded30>"
      ]
     },
     "execution_count": 297,
     "metadata": {},
     "output_type": "execute_result"
    }
   ],
   "source": [
    "prop_name = \"mephi_g_lc_label_propagation\"\n",
    "start_time = time.time()\n",
    "mephi_lc_mini = clusters_to_graph(mephi_group_lc, prop_name + \"_cluster\")\n",
    "mephi_lc_mini.vp.sfdp_pos = grt.sfdp_layout(\n",
    "    mephi_lc_mini,\n",
    "    vweight=mephi_lc_mini.vp.vertex_size,\n",
    "    eweight=mephi_lc_mini.ep.edge_size\n",
    ")\n",
    "mephi_lc_mini.ep.colors = mephi_lc_mini.new_ep('vector<double>')\n",
    "for e in mephi_lc_mini.edges():\n",
    "    mephi_lc_mini.ep.colors[e] = [0] + list(mephi_lc_mini.vp[prop_name + \"_cluster_color\"][e.source()]) + \\\n",
    "    [1] + list(mephi_lc_mini.vp[prop_name + \"_cluster_color\"][e.target()])\n",
    "mephi_lc_mini.save(prop_name + \"_mini.gt\")\n",
    "grt.graph_draw(\n",
    "    mephi_lc_mini, \n",
    "    pos=grt.sfdp_layout(\n",
    "        mephi_lc_mini,\n",
    "        vweight=mephi_lc_mini.vp.vertex_size,\n",
    "        #eweight=grt.prop_to_size(\n",
    "        #    mephi_lc_mini.ep.edge_size,\n",
    "        #    mi=1, ma=100000, power=1\n",
    "        #)\n",
    "    ),\n",
    "    vertex_size=grt.prop_to_size(\n",
    "        mephi_lc_mini.vp.vertex_size,\n",
    "        mi=1, ma=100, log=True\n",
    "    ),\n",
    "    edge_pen_width=grt.prop_to_size(\n",
    "        mephi_lc_mini.ep.edge_size,\n",
    "        mi=1, ma=100, power=1\n",
    "    ),\n",
    "    edge_gradient=mephi_lc_mini.ep.colors,\n",
    "    vertex_fill_color=mephi_lc_mini.vp[prop_name + \"_cluster_color\"],\n",
    "    vertex_pen_width=1,\n",
    "    vertex_color=[0, 0, 0, 1],\n",
    "    edge_color=(0.25, 0.25, 0.25, 0.25),\n",
    "    output_size=(1000, 1000),\n",
    "    output=\"pics/\" + prop_name + \"_mini.png\"\n",
    ")"
   ]
  },
  {
   "cell_type": "markdown",
   "metadata": {},
   "source": [
    "# Центральности"
   ]
  },
  {
   "cell_type": "code",
   "execution_count": 13,
   "metadata": {},
   "outputs": [],
   "source": [
    "centralities = {\n",
    "    \"betweenness\" : {},\n",
    "    \"closeness\" : {},\n",
    "    \"eigenvector\" : {},\n",
    "    \"katz\" : {}\n",
    "}\n",
    "for key, value in centralities.items():\n",
    "    centralities[key] = {\n",
    "        \"small\" : None,\n",
    "        \"restr\" : None,\n",
    "        \"mephi_lc\" : None\n",
    "    }"
   ]
  },
  {
   "cell_type": "markdown",
   "metadata": {},
   "source": [
    "### Eigenvector"
   ]
  },
  {
   "cell_type": "markdown",
   "metadata": {},
   "source": [
    "##### Маленький граф"
   ]
  },
  {
   "cell_type": "code",
   "execution_count": 305,
   "metadata": {},
   "outputs": [
    {
     "name": "stdout",
     "output_type": "stream",
     "text": [
      "CPU times: user 728 µs, sys: 2.2 ms, total: 2.93 ms\n",
      "Wall time: 3.02 ms\n"
     ]
    }
   ],
   "source": [
    "%time small_groups_ev_value, small_groups_ev_pm = grt.eigenvector(g_small_groups)\n",
    "g_small_groups.vertex_properties[\"eigenvector\"] = small_groups_ev_pm\n",
    "centralities[\"eigenvector\"][\"small\"] = small_groups_ev_pm\n",
    "grt.graph_draw(\n",
    "    g_small_groups, \n",
    "    pos=g_small_groups.vp.sfdp_pos,\n",
    "    vertex_size=grt.prop_to_size(small_groups_ev_pm, mi=5, ma=35), \n",
    "    vcmap=matplotlib.cm.gist_heat, \n",
    "    vertex_fill_color=small_groups_ev_pm,\n",
    "    vorder=small_groups_ev_pm,\n",
    "    edge_color=(0.25, 0.25, 0.25, 0.25),\n",
    "    #vertex_text=g_small_groups.vp.user_id, \n",
    "    #vertex_text_position=1, \n",
    "    output_size=(1000, 1000), \n",
    "    output=\"pics/ev_small_v2.png\"\n",
    ")\n",
    "g_small_groups.save(\"g_small_groups_v2.gt\")"
   ]
  },
  {
   "cell_type": "markdown",
   "metadata": {},
   "source": [
    "##### Граф экстремистов"
   ]
  },
  {
   "cell_type": "code",
   "execution_count": 300,
   "metadata": {},
   "outputs": [
    {
     "name": "stdout",
     "output_type": "stream",
     "text": [
      "CPU times: user 1.29 s, sys: 2.05 ms, total: 1.29 s\n",
      "Wall time: 1.32 s\n"
     ]
    }
   ],
   "source": [
    "%time restr_groups_ev_value, restr_groups_ev_pm = grt.eigenvector(restricted_groups)\n",
    "restricted_groups.vertex_properties[\"eigenvector\"] = restr_groups_ev_pm\n",
    "centralities[\"eigenvector\"][\"restr\"] = restr_groups_ev_pm\n",
    "grt.graph_draw(\n",
    "    restricted_groups, \n",
    "    pos=restricted_groups.vp.sfdp_pos,\n",
    "    vertex_size=grt.prop_to_size(restr_groups_ev_pm, mi=5, ma=35), \n",
    "    vcmap=matplotlib.cm.gist_heat, \n",
    "    vertex_fill_color=restr_groups_ev_pm,\n",
    "    vorder=restr_groups_ev_pm,\n",
    "    edge_color=(0.25, 0.25, 0.25, 0.25),\n",
    "    #vertex_text=restricted_groups.vp.user_id, \n",
    "    #vertex_text_position=1, \n",
    "    output_size=(5000, 5000), \n",
    "    output=\"pics/ev_restr_v2.png\"\n",
    ")\n",
    "restricted_groups.save(\"restricted_groups_v4.gt\")"
   ]
  },
  {
   "cell_type": "markdown",
   "metadata": {},
   "source": [
    "##### Граф МИФИ наибольшая компнента"
   ]
  },
  {
   "cell_type": "code",
   "execution_count": 311,
   "metadata": {},
   "outputs": [
    {
     "name": "stdout",
     "output_type": "stream",
     "text": [
      "CPU times: user 1.37 s, sys: 2.06 ms, total: 1.37 s\n",
      "Wall time: 1.38 s\n"
     ]
    }
   ],
   "source": [
    "%time mephi_group_lc_ev_value, mephi_group_lc_ev_pm = grt.eigenvector(mephi_group_lc)\n",
    "mephi_group_lc.vertex_properties[\"eigenvector\"] = mephi_group_lc_ev_pm\n",
    "centralities[\"eigenvector\"][\"mephi_lc\"] = mephi_group_lc_ev_pm\n",
    "grt.graph_draw(\n",
    "    mephi_group_lc, \n",
    "    pos=mephi_group_lc.vp.sfdp_pos, \n",
    "    vertex_size=grt.prop_to_size(mephi_group_lc_ev_pm, mi=5, ma=35), \n",
    "    vcmap=matplotlib.cm.gist_heat, \n",
    "    vertex_fill_color=mephi_group_lc_ev_pm,\n",
    "    vorder=mephi_group_lc_ev_pm,\n",
    "    edge_color=(0.25, 0.25, 0.25, 0.25),\n",
    "    #vertex_text=mephi_group_lc.vp.user_id, \n",
    "    #vertex_text_position=1, \n",
    "    output_size=(5000, 5000), \n",
    "    output=\"pics/ev_mephi_lc_v2.png\"\n",
    ")\n",
    "mephi_group_lc.save(\"mephi_group_lc_v4.gt\")"
   ]
  },
  {
   "cell_type": "markdown",
   "metadata": {},
   "source": [
    "### Katz"
   ]
  },
  {
   "cell_type": "markdown",
   "metadata": {},
   "source": [
    "##### Маленький граф"
   ]
  },
  {
   "cell_type": "code",
   "execution_count": 310,
   "metadata": {},
   "outputs": [
    {
     "name": "stdout",
     "output_type": "stream",
     "text": [
      "CPU times: user 2.33 ms, sys: 1.1 ms, total: 3.43 ms\n",
      "Wall time: 3.43 ms\n"
     ]
    }
   ],
   "source": [
    "%time small_groups_katz = grt.katz(g_small_groups, norm=True)\n",
    "g_small_groups.vertex_properties[\"katz\"] = small_groups_katz\n",
    "centralities[\"katz\"][\"small\"] = small_groups_katz\n",
    "grt.graph_draw(\n",
    "    g_small_groups, \n",
    "    pos=g_small_groups.vp.sfdp_pos,\n",
    "    vertex_size=grt.prop_to_size(small_groups_katz, mi=5, ma=35), \n",
    "    vcmap=matplotlib.cm.gist_heat, \n",
    "    vertex_fill_color=small_groups_katz,\n",
    "    vorder=small_groups_katz,\n",
    "    edge_color=(0.25, 0.25, 0.25, 0.25),\n",
    "    #vertex_text=g_small_groups.vp.user_id, \n",
    "    #vertex_text_position=1, \n",
    "    output_size=(1000, 1000), \n",
    "    output=\"pics/katz_small_v2.png\"\n",
    ")\n",
    "g_small_groups.save(\"g_small_groups_v1.gt\")"
   ]
  },
  {
   "cell_type": "markdown",
   "metadata": {},
   "source": [
    "##### Граф экстремистов"
   ]
  },
  {
   "cell_type": "code",
   "execution_count": 313,
   "metadata": {
    "scrolled": true
   },
   "outputs": [
    {
     "name": "stdout",
     "output_type": "stream",
     "text": [
      "CPU times: user 507 ms, sys: 1.05 ms, total: 508 ms\n",
      "Wall time: 509 ms\n"
     ]
    }
   ],
   "source": [
    "%time restr_groups_katz = grt.katz(restricted_groups, norm=True, alpha=0.001)\n",
    "restricted_groups.vp[\"katz\"] = restr_groups_katz\n",
    "centralities[\"katz\"][\"restr\"] = restr_groups_katz\n",
    "grt.graph_draw(\n",
    "    restricted_groups, \n",
    "    pos=restricted_groups.vp.sfdp_pos,\n",
    "    vertex_size=grt.prop_to_size(restr_groups_katz, mi=5, ma=50), \n",
    "    vcmap=matplotlib.cm.gist_heat, \n",
    "    vertex_fill_color=restr_groups_katz,\n",
    "    vorder=restr_groups_katz,\n",
    "    edge_color=(0.25, 0.25, 0.25, 0.25),\n",
    "    #vertex_text=restricted_groups.vp.user_id, \n",
    "    #vertex_text_position=1, \n",
    "    output_size=(5000, 5000), \n",
    "    output=\"pics/katz_restr_v2.png\"\n",
    ")\n",
    "restricted_groups.save(\"restricted_groups_v4.gt\")"
   ]
  },
  {
   "cell_type": "markdown",
   "metadata": {},
   "source": [
    "##### Граф МИФИ наибольшая компнента"
   ]
  },
  {
   "cell_type": "code",
   "execution_count": 312,
   "metadata": {},
   "outputs": [
    {
     "name": "stdout",
     "output_type": "stream",
     "text": [
      "CPU times: user 402 ms, sys: 0 ns, total: 402 ms\n",
      "Wall time: 404 ms\n"
     ]
    }
   ],
   "source": [
    "%time mephi_group_lc_katz = grt.katz(mephi_group_lc, norm=True, alpha=0.001)\n",
    "mephi_group_lc.vp[\"katz\"] = mephi_group_lc_katz\n",
    "centralities[\"katz\"][\"mephi_lc\"] = mephi_group_lc_katz\n",
    "grt.graph_draw(\n",
    "    mephi_group_lc, \n",
    "    pos=mephi_group_lc.vp.sfdp_pos, \n",
    "    vertex_size=grt.prop_to_size(mephi_group_lc_katz, mi=5, ma=50), \n",
    "    vcmap=matplotlib.cm.gist_heat, \n",
    "    vertex_fill_color=mephi_group_lc_katz,\n",
    "    vorder=mephi_group_lc_katz,\n",
    "    edge_color=(0.25, 0.25, 0.25, 0.25),\n",
    "    #vertex_text=mephi_group.vp.user_id, \n",
    "    #vertex_text_position=1, \n",
    "    output_size=(5000, 5000), \n",
    "    output=\"pics/katz_mephi_lc_v2.png\"\n",
    ")\n",
    "mephi_group_lc.save(\"mephi_group_lc_v4.gt\")"
   ]
  },
  {
   "cell_type": "markdown",
   "metadata": {},
   "source": [
    "### Betweenness"
   ]
  },
  {
   "cell_type": "markdown",
   "metadata": {},
   "source": [
    "##### Маленький граф"
   ]
  },
  {
   "cell_type": "code",
   "execution_count": 307,
   "metadata": {},
   "outputs": [
    {
     "name": "stdout",
     "output_type": "stream",
     "text": [
      "CPU times: user 31.6 ms, sys: 0 ns, total: 31.6 ms\n",
      "Wall time: 32 ms\n"
     ]
    }
   ],
   "source": [
    "%time small_groups_vp_btwns, small_groups_ep_btwns = grt.betweenness(g_small_groups)\n",
    "g_small_groups.vertex_properties[\"betweenness\"] = small_groups_vp_btwns\n",
    "centralities[\"betweenness\"][\"small\"] = small_groups_vp_btwns\n",
    "grt.graph_draw(\n",
    "    g_small_groups, \n",
    "    pos=g_small_groups.vp.sfdp_pos,\n",
    "    vertex_size=grt.prop_to_size(small_groups_vp_btwns, mi=5, ma=35), \n",
    "    vcmap=matplotlib.cm.gist_heat, \n",
    "    vertex_fill_color=small_groups_vp_btwns, \n",
    "    vorder=small_groups_vp_btwns,\n",
    "    edge_color=(0.25, 0.25, 0.25, 0.25),\n",
    "    #vertex_text=g_small_groups.vp.user_id, \n",
    "    #vertex_text_position=1, \n",
    "    output_size=(1000, 1000), \n",
    "    output=\"pics/btwns_small_v2.png\"\n",
    ")\n",
    "g_small_groups.save(\"g_small_groups_v1.gt\")"
   ]
  },
  {
   "cell_type": "markdown",
   "metadata": {},
   "source": [
    "##### Граф экстремистов"
   ]
  },
  {
   "cell_type": "code",
   "execution_count": null,
   "metadata": {},
   "outputs": [],
   "source": [
    "%time restr_groups_vp_btwns, restr_groups_ep_btwns = grt.betweenness(restricted_groups)\n",
    "restricted_groups.vertex_properties[\"betweenness\"] = restr_groups_vp_btwns\n",
    "centralities[\"betweenness\"][\"restr\"] = restr_groups_vp_btwns\n",
    "grt.graph_draw(\n",
    "    restricted_groups, \n",
    "    pos=restricted_groups.vp.sfdp_pos,\n",
    "    vertex_size=grt.prop_to_size(restr_groups_vp_btwns, mi=5, ma=50), \n",
    "    vcmap=matplotlib.cm.gist_heat, \n",
    "    vertex_fill_color=restr_groups_vp_btwns, \n",
    "    vorder=restr_groups_vp_btwns,\n",
    "    edge_color=(0.25, 0.25, 0.25, 0.25),\n",
    "    #vertex_text=restricted_groups.vp.user_id, \n",
    "    #vertex_text_position=1, \n",
    "    output_size=(5000, 5000), \n",
    "    output=\"pics/btwns_restr_v2.png\"\n",
    ")\n",
    "restricted_groups.save(\"restricted_groups_v4.gt\")"
   ]
  },
  {
   "cell_type": "markdown",
   "metadata": {},
   "source": [
    "##### Граф МИФИ наибольшая компнента"
   ]
  },
  {
   "cell_type": "code",
   "execution_count": null,
   "metadata": {},
   "outputs": [],
   "source": [
    "%time mephi_group_lc_btwns = grt.betweenness(mephi_group_lc)\n",
    "mephi_group_lc.vertex_properties[\"betweenness\"] = mephi_group_lc_btwns\n",
    "centralities[\"betweenness\"][\"mephi_lc\"] = mephi_group_lc_btwns\n",
    "grt.graph_draw(\n",
    "    mephi_group_lc, \n",
    "    pos=mephi_group_lc.vp.sfdp_pos, \n",
    "    vertex_size=grt.prop_to_size(mephi_group_lc_btwns, mi=5, ma=50), \n",
    "    vcmap=matplotlib.cm.gist_heat, \n",
    "    vertex_fill_color=mephi_group_lc_btwns,\n",
    "    vorder=mephi_group_lc_btwns,\n",
    "    edge_color=(0.25, 0.25, 0.25, 0.25),\n",
    "    #vertex_text=mephi_group_lc.vp.user_id, \n",
    "    #vertex_text_position=1, \n",
    "    output_size=(5000, 5000), \n",
    "    output=\"pics/btwns_mephi_lc_v2.png\"\n",
    ")\n",
    "mephi_group_lc.save(\"mephi_group_lc_v4.gt\")"
   ]
  },
  {
   "cell_type": "markdown",
   "metadata": {},
   "source": [
    "### Closeness"
   ]
  },
  {
   "cell_type": "markdown",
   "metadata": {},
   "source": [
    "##### Маленький граф"
   ]
  },
  {
   "cell_type": "code",
   "execution_count": 308,
   "metadata": {},
   "outputs": [
    {
     "name": "stdout",
     "output_type": "stream",
     "text": [
      "CPU times: user 41.1 ms, sys: 0 ns, total: 41.1 ms\n",
      "Wall time: 41.3 ms\n"
     ]
    }
   ],
   "source": [
    "%time small_groups_clsns = grt.closeness(g_small_groups, norm=True)\n",
    "g_small_groups.vertex_properties[\"closeness\"] = small_groups_clsns\n",
    "centralities[\"closeness\"][\"small\"] = small_groups_clsns\n",
    "grt.graph_draw(\n",
    "    g_small_groups, \n",
    "    pos=g_small_groups.vp.sfdp_pos,\n",
    "    vertex_size=grt.prop_to_size(small_groups_clsns, mi=5, ma=35), \n",
    "    vcmap=matplotlib.cm.gist_heat, \n",
    "    vertex_fill_color=small_groups_clsns,\n",
    "    vorder=small_groups_clsns,\n",
    "    edge_color=(0.25, 0.25, 0.25, 0.25),\n",
    "    #vertex_text=g_small_groups.vp.user_id, \n",
    "    #vertex_text_position=1, \n",
    "    output_size=(1000, 1000), \n",
    "    output=\"pics/clsns_small_v2.png\"\n",
    ")\n",
    "g_small_groups.save(\"g_small_groups_v1.gt\")"
   ]
  },
  {
   "cell_type": "markdown",
   "metadata": {},
   "source": [
    "##### Граф экстремистов"
   ]
  },
  {
   "cell_type": "code",
   "execution_count": null,
   "metadata": {},
   "outputs": [],
   "source": [
    "%time restr_groups_clsns = grt.closeness(restricted_groups, norm=True)\n",
    "restricted_groups.vertex_properties[\"closeness\"] = restr_groups_clsns\n",
    "centralities[\"closeness\"][\"restr\"] = restr_groups_clsns\n",
    "grt.graph_draw(\n",
    "    restricted_groups, \n",
    "    pos=restricted_groups.vp.sfdp_pos,\n",
    "    vertex_size=grt.prop_to_size(restr_groups_clsns, mi=5, ma=35), \n",
    "    vcmap=matplotlib.cm.gist_heat, \n",
    "    vertex_fill_color=restr_groups_clsns,\n",
    "    vorder=restr_groups_clsns,\n",
    "    edge_color=(0.25, 0.25, 0.25, 0.25),\n",
    "    #vertex_text=restricted_groups.vp.user_id, \n",
    "    #vertex_text_position=1, \n",
    "    output_size=(5000, 5000), \n",
    "    output=\"pics/clsns_restr_v2.png\"\n",
    ")\n",
    "restricted_groups.save(\"restricted_groups_v4.gt\")"
   ]
  },
  {
   "cell_type": "markdown",
   "metadata": {},
   "source": [
    "##### Граф МИФИ наибольшая компнента"
   ]
  },
  {
   "cell_type": "code",
   "execution_count": null,
   "metadata": {},
   "outputs": [],
   "source": [
    "%time mephi_group_lc_clsns = grt.closeness(mephi_group_lc)\n",
    "mephi_group_lc.vertex_properties[\"closeness\"] = mephi_group_lc_clsns\n",
    "centralities[\"closeness\"][\"mephi_lc\"] = mephi_group_lc_clsns\n",
    "grt.graph_draw(\n",
    "    mephi_group_lc, \n",
    "    pos=mephi_group_lc.vp.sfdp_pos, \n",
    "    vertex_size=grt.prop_to_size(mephi_group_lc_clsns, mi=5, ma=35), \n",
    "    vcmap=matplotlib.cm.gist_heat, \n",
    "    vertex_fill_color=mephi_group_lc_clsns,\n",
    "    vorder=mephi_group_lc_clsns,\n",
    "    edge_color=(0.25, 0.25, 0.25, 0.25),\n",
    "    #vertex_text=mephi_group_lc.vp.user_id, \n",
    "    #vertex_text_position=1, \n",
    "    output_size=(5000, 5000), \n",
    "    output=\"pics/clsns_mephi_lc_v2.png\"\n",
    ")\n",
    "mephi_group_lc.save(\"mephi_group_lc_v4.gt\")"
   ]
  },
  {
   "cell_type": "code",
   "execution_count": 363,
   "metadata": {},
   "outputs": [
    {
     "name": "stdout",
     "output_type": "stream",
     "text": [
      "small_g_infomap eigenvector succeed\n",
      "small_g_leading_eigenvector eigenvector succeed\n",
      "small_g_label_propagation eigenvector succeed\n",
      "small_g_multilevel eigenvector succeed\n",
      "small_g_walktrap eigenvector succeed\n",
      "small_g_fastgreedy eigenvector succeed\n",
      "small_g_edge_betweenness eigenvector succeed\n"
     ]
    }
   ],
   "source": [
    "cntr = \"eigenvector\"\n",
    "for clstr in igr_methods_small:\n",
    "    g_small_separated = cluster_separation(g_small_groups, clstr + \"_cluster\")\n",
    "    _, centr = grt.eigenvector(g_small_separated)\n",
    "    grt.graph_draw(\n",
    "        g_small_separated, \n",
    "        pos=grt.sfdp_layout(g_small_separated), \n",
    "        vertex_size=grt.prop_to_size(g_small_separated.vp[cntr], mi=3, ma=20), \n",
    "        #vcmap=matplotlib.cm.gist_heat, \n",
    "        vertex_fill_color=g_small_separated.vp[clstr + \"_cluster_color\"],\n",
    "        edge_color=(0.5, 0.5, 0.5, 1),\n",
    "        #vertex_text=g_small_groups.vp.user_id, \n",
    "        #vertex_text_position=1, \n",
    "        output_size=(1000, 1000), \n",
    "        output=\"pics/\" + clstr +'_'+ cntr + \"_separated_v1.png\"\n",
    "    )\n",
    "    print (clstr, cntr, \"succeed\")"
   ]
  },
  {
   "cell_type": "markdown",
   "metadata": {},
   "source": [
    "### Вывод центральностей"
   ]
  },
  {
   "cell_type": "code",
   "execution_count": 15,
   "metadata": {},
   "outputs": [],
   "source": [
    "graphs = {\"А\" : g_small_groups, \"Б\" : restricted_groups, \"В\" : mephi_group_lc}\n",
    "centr_methods = [\"betweenness\", \"closeness\", \"eigenvector\", \"katz\"]\n",
    "\n",
    "def plot_centralities():\n",
    "    for method, graph_name in itertools.product(centr_methods, graphs.keys()):\n",
    "        print(method, graph_name)\n",
    "        if method in graphs[graph_name].vp:            \n",
    "            centr_list = graphs[graph_name].vp[method].a\n",
    "            fig, ax = plt.subplots(1, 1, figsize=(10, 6))\n",
    "            fig.suptitle(method, fontsize=16)\n",
    "            norm = lambda x: (x - min(x))/(max(x) - min(x))\n",
    "            ax.plot(range(len(centr_list)), norm(np.array(sorted(graphs[graph_name].vp[method].a))))\n",
    "            ax.xlabel(\"Порядковый номер вершины\", fontsize=18)\n",
    "            ax.ylabel(\"Значение центральности вершин\", fontsize=18)\n",
    "            ax.set_title(\"Граф %s\" % graph_name)\n",
    "            plt.show()\n",
    "                \n",
    "def hist_centralities():\n",
    "    for method, graph_name in itertools.product(centr_methods, graphs.keys()):\n",
    "        print(method, graph_name)\n",
    "        if method in graphs[graph_name].vp:\n",
    "            fig, ax = plt.subplots(1, 1, figsize=(10, 6))\n",
    "            fig.suptitle(method, fontsize=16)\n",
    "            ax.hist(graph_centr.a, bins=25)\n",
    "            ax.set_title(\"Граф %s\" % graph_name)\n",
    "            plt.show()"
   ]
  },
  {
   "cell_type": "code",
   "execution_count": 26,
   "metadata": {},
   "outputs": [
    {
     "name": "stdout",
     "output_type": "stream",
     "text": [
      "2288\n"
     ]
    },
    {
     "data": {
      "image/png": "[encoded data removed]",
      "text/plain": [
       "<Figure size 720x432 with 1 Axes>"
      ]
     },
     "metadata": {},
     "output_type": "display_data"
    }
   ],
   "source": [
    "graph_name = 'В'\n",
    "method = 'katz'\n",
    "centr_list = graphs[graph_name].vp[method].a\n",
    "fig, ax = plt.subplots(1, 1, figsize=(10, 6))\n",
    "fig.suptitle('Центральность графов', fontsize=16)\n",
    "print(len(centr_list) - 147016)\n",
    "norm = lambda x: (x - min(x))/(max(x) - min(x))\n",
    "ax.plot(range(len(centr_list) - 147016), \n",
    "        norm(np.array(sorted(graphs[graph_name].vp['eigenvector'].a)[147016:])), label='Eigenvector')\n",
    "ax.plot(range(len(centr_list) - 147016), \n",
    "        norm(np.array(sorted(graphs[graph_name].vp['katz'].a)[147016:])), label='Katz')\n",
    "\n",
    "plt.xlabel(\"Порядковый номер вершины\", fontsize=16)\n",
    "plt.ylabel(\"Значение центральности вершин\", fontsize=16)\n",
    "plt.legend()\n",
    "ax.set_title(\"Граф %s\" % graph_name)\n",
    "plt.show()"
   ]
  },
  {
   "cell_type": "code",
   "execution_count": 27,
   "metadata": {},
   "outputs": [
    {
     "name": "stdout",
     "output_type": "stream",
     "text": [
      "4064\n",
      "4064\n"
     ]
    },
    {
     "data": {
      "image/png": "[encoded data removed]",
      "text/plain": [
       "<Figure size 720x432 with 1 Axes>"
      ]
     },
     "metadata": {},
     "output_type": "display_data"
    }
   ],
   "source": [
    "graph_name = 'Б'\n",
    "fig, ax = plt.subplots(1, 1, figsize=(10, 6))\n",
    "fig.suptitle('Центральность графов', fontsize=16)\n",
    "for method in centr_methods:\n",
    "    if method in graphs[graph_name].vp:\n",
    "        centr_list = graphs[graph_name].vp[method].a\n",
    "        print(len(centr_list) - 197000)\n",
    "        norm = lambda x: (x - min(x))/(max(x) - min(x))\n",
    "        ax.plot(range(len(centr_list) - 197000), \n",
    "                norm(np.array(sorted(graphs[graph_name].vp[method].a)[197000:])), label=method.capitalize())\n",
    "        \n",
    "plt.xlabel(\"Порядковый номер вершины\", fontsize=16)\n",
    "plt.ylabel(\"Значение центральности вершин\", fontsize=16)\n",
    "plt.legend()\n",
    "ax.set_title(\"Граф %s\" % graph_name)\n",
    "plt.show()"
   ]
  },
  {
   "cell_type": "code",
   "execution_count": 17,
   "metadata": {},
   "outputs": [
    {
     "data": {
      "image/png": "[encoded data removed]",
      "text/plain": [
       "<Figure size 720x432 with 1 Axes>"
      ]
     },
     "metadata": {},
     "output_type": "display_data"
    }
   ],
   "source": [
    "graph_name = 'А'\n",
    "fig, ax = plt.subplots(1, 1, figsize=(10, 6))\n",
    "fig.suptitle('Центральность графов', fontsize=16)\n",
    "for method in centr_methods:\n",
    "    if method in ['betweenness', 'closeness']:\n",
    "        centr_list = graphs[graph_name].vp[method].a\n",
    "        norm = lambda x: (x - min(x)) / (max(x) - min(x))\n",
    "        ax.plot(range(len(centr_list)), \n",
    "                norm(np.array(sorted(graphs[graph_name].vp[method].a))), label=method.capitalize())\n",
    "        \n",
    "plt.xlabel(\"Порядковый номер вершины\", fontsize=16)\n",
    "plt.ylabel(\"Значение центральности вершин\", fontsize=16)\n",
    "plt.legend()\n",
    "ax.set_title(\"Граф %s\" % graph_name)\n",
    "plt.show()"
   ]
  }
 ],
 "metadata": {
  "kernelspec": {
   "display_name": "Python 3",
   "language": "python",
   "name": "python3"
  },
  "language_info": {
   "codemirror_mode": {
    "name": "ipython",
    "version": 3
   },
   "file_extension": ".py",
   "mimetype": "text/x-python",
   "name": "python",
   "nbconvert_exporter": "python",
   "pygments_lexer": "ipython3",
   "version": "3.7.3"
  }
 },
 "nbformat": 4,
 "nbformat_minor": 2
}
